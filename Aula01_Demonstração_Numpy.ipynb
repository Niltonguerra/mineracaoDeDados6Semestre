{
  "nbformat": 4,
  "nbformat_minor": 0,
  "metadata": {
    "colab": {
      "provenance": [],
      "authorship_tag": "ABX9TyOtWVyhRHW+0Zi0+XCDzBMc",
      "include_colab_link": true
    },
    "kernelspec": {
      "name": "python3",
      "display_name": "Python 3"
    },
    "language_info": {
      "name": "python"
    }
  },
  "cells": [
    {
      "cell_type": "markdown",
      "metadata": {
        "id": "view-in-github",
        "colab_type": "text"
      },
      "source": [
        "<a href=\"https://colab.research.google.com/github/ProfAndersonVanin/FATEC_MINERACAO_DADOS_2SEM2024/blob/main/Aula01_Demonstra%C3%A7%C3%A3o_Numpy.ipynb\" target=\"_parent\"><img src=\"https://colab.research.google.com/assets/colab-badge.svg\" alt=\"Open In Colab\"/></a>"
      ]
    },
    {
      "cell_type": "markdown",
      "source": [
        "# **Demonstração da Biblioteca Numpy**"
      ],
      "metadata": {
        "id": "Ejif9rXh0zVt"
      }
    },
    {
      "cell_type": "markdown",
      "source": [
        "# Importação da Biblioteca"
      ],
      "metadata": {
        "id": "844v1Rur0_m0"
      }
    },
    {
      "cell_type": "code",
      "execution_count": 1,
      "metadata": {
        "id": "d8xkt8Xn0rE1"
      },
      "outputs": [],
      "source": [
        "import numpy as np"
      ]
    },
    {
      "cell_type": "markdown",
      "source": [
        "# Gerar alguns dados aleatórios"
      ],
      "metadata": {
        "id": "le1m7S8P27NT"
      }
    },
    {
      "cell_type": "markdown",
      "source": [
        "Gerar um ndarray 2x3 - duas listas com 3 elementos\n",
        "\n",
        "lista1 = [1,2,3]\n",
        "\n",
        "lista2 = [4,5,6]"
      ],
      "metadata": {
        "id": "kcI_Uv3e3JFp"
      }
    },
    {
      "cell_type": "code",
      "source": [
        "dados = np.random.rand(2,3)"
      ],
      "metadata": {
        "id": "C5BvA17E3CDR"
      },
      "execution_count": 2,
      "outputs": []
    },
    {
      "cell_type": "code",
      "source": [
        "dados"
      ],
      "metadata": {
        "colab": {
          "base_uri": "https://localhost:8080/"
        },
        "id": "QWUsSRUx3qtC",
        "outputId": "03c6e150-5040-44ac-aef0-b0a1dd0712a0"
      },
      "execution_count": 3,
      "outputs": [
        {
          "output_type": "execute_result",
          "data": {
            "text/plain": [
              "array([[0.43312687, 0.69002727, 0.02799975],\n",
              "       [0.26368656, 0.68120291, 0.50186432]])"
            ]
          },
          "metadata": {},
          "execution_count": 3
        }
      ]
    },
    {
      "cell_type": "markdown",
      "source": [
        "# Verificando o tipo do Array"
      ],
      "metadata": {
        "id": "ZBxCUvVr36qh"
      }
    },
    {
      "cell_type": "code",
      "source": [
        "dados.dtype"
      ],
      "metadata": {
        "colab": {
          "base_uri": "https://localhost:8080/"
        },
        "id": "qOaNYeOV4A6Q",
        "outputId": "00bfafc0-1aed-4931-c23d-e78055ccc09d"
      },
      "execution_count": 4,
      "outputs": [
        {
          "output_type": "execute_result",
          "data": {
            "text/plain": [
              "dtype('float64')"
            ]
          },
          "metadata": {},
          "execution_count": 4
        }
      ]
    },
    {
      "cell_type": "markdown",
      "source": [
        "# Verificar Tamanho e Quantidade de Dimensões"
      ],
      "metadata": {
        "id": "FyV2-Q0m4MAw"
      }
    },
    {
      "cell_type": "code",
      "source": [
        "dados.shape"
      ],
      "metadata": {
        "colab": {
          "base_uri": "https://localhost:8080/"
        },
        "id": "9-vC6wNR4SWQ",
        "outputId": "59ac521e-72b4-418b-fbd8-2e1a1439e261"
      },
      "execution_count": 5,
      "outputs": [
        {
          "output_type": "execute_result",
          "data": {
            "text/plain": [
              "(2, 3)"
            ]
          },
          "metadata": {},
          "execution_count": 5
        }
      ]
    },
    {
      "cell_type": "code",
      "source": [
        "dados.ndim"
      ],
      "metadata": {
        "colab": {
          "base_uri": "https://localhost:8080/"
        },
        "id": "8f1W7XEd4YgQ",
        "outputId": "78a81f18-3c46-4395-f341-2b624c321642"
      },
      "execution_count": 6,
      "outputs": [
        {
          "output_type": "execute_result",
          "data": {
            "text/plain": [
              "2"
            ]
          },
          "metadata": {},
          "execution_count": 6
        }
      ]
    },
    {
      "cell_type": "markdown",
      "source": [
        "# Criando um ndarray a partir de uma estrutura básica python - Ex. Listas"
      ],
      "metadata": {
        "id": "W5Qao9Tg5xRQ"
      }
    },
    {
      "cell_type": "code",
      "source": [
        "lista = [1,2,3,4,5]"
      ],
      "metadata": {
        "id": "wcPwPlM94aOF"
      },
      "execution_count": 7,
      "outputs": []
    },
    {
      "cell_type": "code",
      "source": [
        "dados1 = np.array(lista)"
      ],
      "metadata": {
        "id": "oiHD1gb759ov"
      },
      "execution_count": 8,
      "outputs": []
    },
    {
      "cell_type": "code",
      "source": [
        "dados1"
      ],
      "metadata": {
        "colab": {
          "base_uri": "https://localhost:8080/"
        },
        "id": "IqbqccAL6DpH",
        "outputId": "426f3c91-c01c-4b09-c455-3c76e0839487"
      },
      "execution_count": 9,
      "outputs": [
        {
          "output_type": "execute_result",
          "data": {
            "text/plain": [
              "array([1, 2, 3, 4, 5])"
            ]
          },
          "metadata": {},
          "execution_count": 9
        }
      ]
    },
    {
      "cell_type": "code",
      "source": [
        "lista2 = [[1,2,3],[4,5,6],[7,8,9]]"
      ],
      "metadata": {
        "id": "mvmvCyzm6HpP"
      },
      "execution_count": 10,
      "outputs": []
    },
    {
      "cell_type": "code",
      "source": [
        "dados2 = np.array(lista2)"
      ],
      "metadata": {
        "id": "ITsEMLHO6N0v"
      },
      "execution_count": 11,
      "outputs": []
    },
    {
      "cell_type": "code",
      "source": [
        "dados2"
      ],
      "metadata": {
        "colab": {
          "base_uri": "https://localhost:8080/"
        },
        "id": "Pvx8FBB_6Qcu",
        "outputId": "a977e372-6cbd-49b8-f520-85c05eebfdfd"
      },
      "execution_count": 12,
      "outputs": [
        {
          "output_type": "execute_result",
          "data": {
            "text/plain": [
              "array([[1, 2, 3],\n",
              "       [4, 5, 6],\n",
              "       [7, 8, 9]])"
            ]
          },
          "metadata": {},
          "execution_count": 12
        }
      ]
    },
    {
      "cell_type": "markdown",
      "source": [
        "# Transfomando tipos"
      ],
      "metadata": {
        "id": "-BgVnD1b6ftP"
      }
    },
    {
      "cell_type": "code",
      "source": [
        "dados3 = np.array([[1,2,3],[4,5,6]])\n",
        "dados3"
      ],
      "metadata": {
        "colab": {
          "base_uri": "https://localhost:8080/"
        },
        "id": "Azc-pzA36iKW",
        "outputId": "8037ae3c-c987-4942-a1f8-9d9fc4b4b608"
      },
      "execution_count": 14,
      "outputs": [
        {
          "output_type": "execute_result",
          "data": {
            "text/plain": [
              "array([[1, 2, 3],\n",
              "       [4, 5, 6]])"
            ]
          },
          "metadata": {},
          "execution_count": 14
        }
      ]
    },
    {
      "cell_type": "code",
      "source": [
        "dados3_novo = dados3.astype(np.float64)\n",
        "dados3_novo"
      ],
      "metadata": {
        "colab": {
          "base_uri": "https://localhost:8080/"
        },
        "id": "CnkgQBS36xDH",
        "outputId": "a9cc4358-da2c-408c-bf3b-703a3657126a"
      },
      "execution_count": 15,
      "outputs": [
        {
          "output_type": "execute_result",
          "data": {
            "text/plain": [
              "array([[1., 2., 3.],\n",
              "       [4., 5., 6.]])"
            ]
          },
          "metadata": {},
          "execution_count": 15
        }
      ]
    },
    {
      "cell_type": "code",
      "source": [
        "dados3.dtype"
      ],
      "metadata": {
        "colab": {
          "base_uri": "https://localhost:8080/"
        },
        "id": "BHl0GGjZ7X1u",
        "outputId": "f21c5ee9-3b10-4ff9-c12b-0a3e4eead305"
      },
      "execution_count": 16,
      "outputs": [
        {
          "output_type": "execute_result",
          "data": {
            "text/plain": [
              "dtype('int64')"
            ]
          },
          "metadata": {},
          "execution_count": 16
        }
      ]
    },
    {
      "cell_type": "code",
      "source": [
        "dados3_novo.dtype"
      ],
      "metadata": {
        "colab": {
          "base_uri": "https://localhost:8080/"
        },
        "id": "lOxag6WT7bo6",
        "outputId": "494a74fd-4d56-43d2-92c6-33ae94a4aeed"
      },
      "execution_count": 17,
      "outputs": [
        {
          "output_type": "execute_result",
          "data": {
            "text/plain": [
              "dtype('float64')"
            ]
          },
          "metadata": {},
          "execution_count": 17
        }
      ]
    },
    {
      "cell_type": "markdown",
      "source": [
        "# Aritmética com Arrays"
      ],
      "metadata": {
        "id": "vgIBA5Lm7qQn"
      }
    },
    {
      "cell_type": "code",
      "source": [
        "dados4 = np.array([[1,2,3],[4,5,6]])\n",
        "dados4"
      ],
      "metadata": {
        "colab": {
          "base_uri": "https://localhost:8080/"
        },
        "id": "MpmvGTbi7eSZ",
        "outputId": "49e756bf-1dc4-4261-d6ea-934eed6a12ad"
      },
      "execution_count": 18,
      "outputs": [
        {
          "output_type": "execute_result",
          "data": {
            "text/plain": [
              "array([[1, 2, 3],\n",
              "       [4, 5, 6]])"
            ]
          },
          "metadata": {},
          "execution_count": 18
        }
      ]
    },
    {
      "cell_type": "code",
      "source": [
        "dados5 = np.array([[7,8,9],[10,11,12]])\n",
        "dados5"
      ],
      "metadata": {
        "colab": {
          "base_uri": "https://localhost:8080/"
        },
        "id": "eMB_dfcq70OG",
        "outputId": "6db0412a-b77c-4018-d659-c9243cce0637"
      },
      "execution_count": 19,
      "outputs": [
        {
          "output_type": "execute_result",
          "data": {
            "text/plain": [
              "array([[ 7,  8,  9],\n",
              "       [10, 11, 12]])"
            ]
          },
          "metadata": {},
          "execution_count": 19
        }
      ]
    },
    {
      "cell_type": "code",
      "source": [
        "dados5[1,1]"
      ],
      "metadata": {
        "colab": {
          "base_uri": "https://localhost:8080/"
        },
        "id": "I2u1M-yT9Rgr",
        "outputId": "59644708-756d-4c4c-fb90-515448e7de8f"
      },
      "execution_count": 27,
      "outputs": [
        {
          "output_type": "execute_result",
          "data": {
            "text/plain": [
              "11"
            ]
          },
          "metadata": {},
          "execution_count": 27
        }
      ]
    },
    {
      "cell_type": "code",
      "source": [
        "resultado = dados4 * dados5\n",
        "resultado"
      ],
      "metadata": {
        "colab": {
          "base_uri": "https://localhost:8080/"
        },
        "id": "trp2ybrb8A0n",
        "outputId": "6419c8ee-3139-4f4b-e80f-93b5727bb106"
      },
      "execution_count": 22,
      "outputs": [
        {
          "output_type": "execute_result",
          "data": {
            "text/plain": [
              "array([[ 7, 16, 27],\n",
              "       [40, 55, 72]])"
            ]
          },
          "metadata": {},
          "execution_count": 22
        }
      ]
    },
    {
      "cell_type": "markdown",
      "source": [
        "# Indexação"
      ],
      "metadata": {
        "id": "2KMoU4LP8jbu"
      }
    },
    {
      "cell_type": "code",
      "source": [
        "exemplo = [1,2,3,4,5]\n",
        "exemplo[2]"
      ],
      "metadata": {
        "colab": {
          "base_uri": "https://localhost:8080/"
        },
        "id": "UwLRNILF8l62",
        "outputId": "700ea843-bba4-410e-850d-5447820dc994"
      },
      "execution_count": 24,
      "outputs": [
        {
          "output_type": "execute_result",
          "data": {
            "text/plain": [
              "3"
            ]
          },
          "metadata": {},
          "execution_count": 24
        }
      ]
    },
    {
      "cell_type": "code",
      "source": [
        "dadosseq = np.array([1,2,3,4,5,6])\n",
        "dadosseq"
      ],
      "metadata": {
        "colab": {
          "base_uri": "https://localhost:8080/"
        },
        "id": "mTeYFFwG82cG",
        "outputId": "c990a24f-59ff-407f-b586-fbbdf763524a"
      },
      "execution_count": 25,
      "outputs": [
        {
          "output_type": "execute_result",
          "data": {
            "text/plain": [
              "array([1, 2, 3, 4, 5, 6])"
            ]
          },
          "metadata": {},
          "execution_count": 25
        }
      ]
    },
    {
      "cell_type": "code",
      "source": [
        "dadosseq[4]"
      ],
      "metadata": {
        "colab": {
          "base_uri": "https://localhost:8080/"
        },
        "id": "gjHFCeeh8-At",
        "outputId": "83e34c7d-dbf0-4557-d791-d83249c5f78c"
      },
      "execution_count": 26,
      "outputs": [
        {
          "output_type": "execute_result",
          "data": {
            "text/plain": [
              "5"
            ]
          },
          "metadata": {},
          "execution_count": 26
        }
      ]
    },
    {
      "cell_type": "markdown",
      "source": [
        "# Fatias"
      ],
      "metadata": {
        "id": "_5dSkdfk9IEe"
      }
    },
    {
      "cell_type": "code",
      "source": [
        "dadosseq[2:4]"
      ],
      "metadata": {
        "colab": {
          "base_uri": "https://localhost:8080/"
        },
        "id": "hV75CO0o9K1t",
        "outputId": "db6a7e74-552e-46af-cccf-8c46b1ade4c8"
      },
      "execution_count": 28,
      "outputs": [
        {
          "output_type": "execute_result",
          "data": {
            "text/plain": [
              "array([3, 4])"
            ]
          },
          "metadata": {},
          "execution_count": 28
        }
      ]
    },
    {
      "cell_type": "code",
      "source": [
        "x = dadosseq[2:4]"
      ],
      "metadata": {
        "id": "UFh7fv649p7W"
      },
      "execution_count": 29,
      "outputs": []
    },
    {
      "cell_type": "code",
      "source": [
        "x"
      ],
      "metadata": {
        "colab": {
          "base_uri": "https://localhost:8080/"
        },
        "id": "0YXfxhFe9s78",
        "outputId": "0844e028-d251-43b6-aa92-e7b0a349c053"
      },
      "execution_count": 30,
      "outputs": [
        {
          "output_type": "execute_result",
          "data": {
            "text/plain": [
              "array([3, 4])"
            ]
          },
          "metadata": {},
          "execution_count": 30
        }
      ]
    },
    {
      "cell_type": "code",
      "source": [
        "dadosseq"
      ],
      "metadata": {
        "colab": {
          "base_uri": "https://localhost:8080/"
        },
        "id": "2u-Jnx959ymW",
        "outputId": "cd734221-7089-4e3b-88be-e3a98e8c6630"
      },
      "execution_count": 31,
      "outputs": [
        {
          "output_type": "execute_result",
          "data": {
            "text/plain": [
              "array([1, 2, 3, 4, 5, 6])"
            ]
          },
          "metadata": {},
          "execution_count": 31
        }
      ]
    },
    {
      "cell_type": "markdown",
      "source": [
        "# Alterando um valor dentro de um nparray"
      ],
      "metadata": {
        "id": "23HVs-ub937T"
      }
    },
    {
      "cell_type": "code",
      "source": [
        "dadosseq[2] = 11111\n",
        "dadosseq"
      ],
      "metadata": {
        "colab": {
          "base_uri": "https://localhost:8080/"
        },
        "id": "GRQETsC6984N",
        "outputId": "b30db6cd-3353-4f82-94cd-0e8c167a8745"
      },
      "execution_count": 32,
      "outputs": [
        {
          "output_type": "execute_result",
          "data": {
            "text/plain": [
              "array([    1,     2, 11111,     4,     5,     6])"
            ]
          },
          "metadata": {},
          "execution_count": 32
        }
      ]
    },
    {
      "cell_type": "markdown",
      "source": [
        "# Máscaras"
      ],
      "metadata": {
        "id": "WwqC3U6T-u7E"
      }
    },
    {
      "cell_type": "code",
      "source": [
        "fatia = dadosseq[2:4]\n",
        "fatia\n",
        "fatia[fatia < 10] = 50\n",
        "fatia"
      ],
      "metadata": {
        "colab": {
          "base_uri": "https://localhost:8080/"
        },
        "id": "jyMc_3Xf-yb7",
        "outputId": "cea0e325-dc50-44e5-d400-2512d7320045"
      },
      "execution_count": 37,
      "outputs": [
        {
          "output_type": "execute_result",
          "data": {
            "text/plain": [
              "array([11111,    50])"
            ]
          },
          "metadata": {},
          "execution_count": 37
        }
      ]
    },
    {
      "cell_type": "code",
      "source": [
        "dadosseq"
      ],
      "metadata": {
        "colab": {
          "base_uri": "https://localhost:8080/"
        },
        "id": "IEjSj-Ud__u8",
        "outputId": "75764f16-fc87-40c2-d447-09458102c013"
      },
      "execution_count": 38,
      "outputs": [
        {
          "output_type": "execute_result",
          "data": {
            "text/plain": [
              "array([   50,    50, 11111,    50,     5,     6])"
            ]
          },
          "metadata": {},
          "execution_count": 38
        }
      ]
    },
    {
      "cell_type": "markdown",
      "source": [
        "# Transposição"
      ],
      "metadata": {
        "id": "IOSCK8AsAVhi"
      }
    },
    {
      "cell_type": "code",
      "source": [
        "dados5"
      ],
      "metadata": {
        "colab": {
          "base_uri": "https://localhost:8080/"
        },
        "id": "wbic1VRCAYoS",
        "outputId": "7f3d77ac-f3eb-401a-fbcf-4c9d6f0b4354"
      },
      "execution_count": 39,
      "outputs": [
        {
          "output_type": "execute_result",
          "data": {
            "text/plain": [
              "array([[ 7,  8,  9],\n",
              "       [10, 11, 12]])"
            ]
          },
          "metadata": {},
          "execution_count": 39
        }
      ]
    },
    {
      "cell_type": "code",
      "source": [
        "dados5.T"
      ],
      "metadata": {
        "colab": {
          "base_uri": "https://localhost:8080/"
        },
        "id": "gv5Eo6jXAkxU",
        "outputId": "6219de68-bbc6-4ce9-fcaf-c5e7991789d2"
      },
      "execution_count": 40,
      "outputs": [
        {
          "output_type": "execute_result",
          "data": {
            "text/plain": [
              "array([[ 7, 10],\n",
              "       [ 8, 11],\n",
              "       [ 9, 12]])"
            ]
          },
          "metadata": {},
          "execution_count": 40
        }
      ]
    },
    {
      "cell_type": "code",
      "source": [
        "dados5"
      ],
      "metadata": {
        "colab": {
          "base_uri": "https://localhost:8080/"
        },
        "id": "ePAZx16xA0Dh",
        "outputId": "4b1ee61f-f5a5-431b-f261-8170c847d72e"
      },
      "execution_count": 41,
      "outputs": [
        {
          "output_type": "execute_result",
          "data": {
            "text/plain": [
              "array([[ 7,  8,  9],\n",
              "       [10, 11, 12]])"
            ]
          },
          "metadata": {},
          "execution_count": 41
        }
      ]
    },
    {
      "cell_type": "code",
      "source": [
        "transposta = dados5.T\n"
      ],
      "metadata": {
        "id": "Yo_ORcL9A7YJ"
      },
      "execution_count": 42,
      "outputs": []
    },
    {
      "cell_type": "code",
      "source": [
        "transposta"
      ],
      "metadata": {
        "colab": {
          "base_uri": "https://localhost:8080/"
        },
        "id": "hC7K1F5gA_ya",
        "outputId": "31d4d068-7622-40b6-ad1a-d7360d64f67c"
      },
      "execution_count": 43,
      "outputs": [
        {
          "output_type": "execute_result",
          "data": {
            "text/plain": [
              "array([[ 7, 10],\n",
              "       [ 8, 11],\n",
              "       [ 9, 12]])"
            ]
          },
          "metadata": {},
          "execution_count": 43
        }
      ]
    },
    {
      "cell_type": "markdown",
      "source": [
        "# Multiplicação de Matrizes com dots"
      ],
      "metadata": {
        "id": "X1mZCIvBBH0a"
      }
    },
    {
      "cell_type": "code",
      "source": [
        "np.dot(dados5,transposta)"
      ],
      "metadata": {
        "colab": {
          "base_uri": "https://localhost:8080/"
        },
        "id": "TN56ssbrBL5R",
        "outputId": "bdc37247-69ef-4b8c-f8ab-3e7ca8c536ea"
      },
      "execution_count": 44,
      "outputs": [
        {
          "output_type": "execute_result",
          "data": {
            "text/plain": [
              "array([[194, 266],\n",
              "       [266, 365]])"
            ]
          },
          "metadata": {},
          "execution_count": 44
        }
      ]
    }
  ]
}