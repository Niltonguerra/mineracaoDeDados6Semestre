{
  "nbformat": 4,
  "nbformat_minor": 0,
  "metadata": {
    "colab": {
      "provenance": [],
      "include_colab_link": true
    },
    "kernelspec": {
      "name": "python3",
      "display_name": "Python 3"
    },
    "language_info": {
      "name": "python"
    }
  },
  "cells": [
    {
      "cell_type": "markdown",
      "metadata": {
        "id": "view-in-github",
        "colab_type": "text"
      },
      "source": [
        "<a href=\"https://colab.research.google.com/github/Niltonguerra/mineracaoDeDados6Semestre/blob/main/Atividade_do_dia_19_10_2024.ipynb\" target=\"_parent\"><img src=\"https://colab.research.google.com/assets/colab-badge.svg\" alt=\"Open In Colab\"/></a>"
      ]
    },
    {
      "cell_type": "markdown",
      "source": [
        "respostas das perguntas propostas:\n",
        "\n",
        "1. calcular o preço médio dos livros<br>\n",
        "Resposta: a média dos preços dos livros é Média dos preços: £38.05\n",
        "\n",
        "\n",
        "2. calcular a quantidade de livros na página<br>\n",
        "Resposta:\n",
        "\n",
        "\n",
        "3. verificar qual é o livro mais caro:<br>\n",
        "Resposta:\n"
      ],
      "metadata": {
        "id": "QEeDKufMM2V2"
      }
    },
    {
      "cell_type": "code",
      "execution_count": 1,
      "metadata": {
        "colab": {
          "base_uri": "https://localhost:8080/"
        },
        "id": "SNl2KL5v_dUI",
        "outputId": "3b392268-a6e9-4977-bfbb-9b3f1fbde8cc"
      },
      "outputs": [
        {
          "output_type": "stream",
          "name": "stdout",
          "text": [
            "Requirement already satisfied: requests in /usr/local/lib/python3.10/dist-packages (2.32.3)\n",
            "Requirement already satisfied: charset-normalizer<4,>=2 in /usr/local/lib/python3.10/dist-packages (from requests) (3.4.0)\n",
            "Requirement already satisfied: idna<4,>=2.5 in /usr/local/lib/python3.10/dist-packages (from requests) (3.10)\n",
            "Requirement already satisfied: urllib3<3,>=1.21.1 in /usr/local/lib/python3.10/dist-packages (from requests) (2.2.3)\n",
            "Requirement already satisfied: certifi>=2017.4.17 in /usr/local/lib/python3.10/dist-packages (from requests) (2024.8.30)\n",
            "Requirement already satisfied: beautifulsoup4 in /usr/local/lib/python3.10/dist-packages (4.12.3)\n",
            "Requirement already satisfied: soupsieve>1.2 in /usr/local/lib/python3.10/dist-packages (from beautifulsoup4) (2.6)\n"
          ]
        }
      ],
      "source": [
        "# bibliotecas\n",
        "!pip install requests\n",
        "!pip install beautifulsoup4"
      ]
    },
    {
      "cell_type": "code",
      "source": [
        "import requests\n",
        "from bs4 import BeautifulSoup\n",
        "\n",
        "# URL do site de exemplo hospedado no GitHub Pages\n",
        "url = 'https://books.toscrape.com/index.html'"
      ],
      "metadata": {
        "id": "qEk1RNGP_5md"
      },
      "execution_count": 2,
      "outputs": []
    },
    {
      "cell_type": "code",
      "source": [
        "headers = {\"User-agent\":\"Mozilla/5.0 (Linux; Android 6.0; Nexus 5 Build/MRA58N) AppleWebKit/537.36 (KHTML, like Gecko) Chrome/130.0.0.0 Mobile Safari/537.36\"}\n",
        "\n"
      ],
      "metadata": {
        "id": "VvnvYCNJH_5S"
      },
      "execution_count": 3,
      "outputs": []
    },
    {
      "cell_type": "code",
      "source": [
        "# Fazendo a requisição HTTP para obter o conteúdo da página\n",
        "response = requests.get(url,headers=headers)"
      ],
      "metadata": {
        "id": "04i5rOeb_8rF"
      },
      "execution_count": 4,
      "outputs": []
    },
    {
      "cell_type": "markdown",
      "source": [],
      "metadata": {
        "id": "OPVCQxtxIsTY"
      }
    },
    {
      "cell_type": "code",
      "source": [
        "response"
      ],
      "metadata": {
        "colab": {
          "base_uri": "https://localhost:8080/"
        },
        "id": "47wUu04OAHOO",
        "outputId": "282474bc-3ff4-4ade-95dc-879442566244"
      },
      "execution_count": 5,
      "outputs": [
        {
          "output_type": "execute_result",
          "data": {
            "text/plain": [
              "<Response [200]>"
            ]
          },
          "metadata": {},
          "execution_count": 5
        }
      ]
    },
    {
      "cell_type": "code",
      "source": [
        "response.text"
      ],
      "metadata": {
        "id": "nz8LdcklAsZc",
        "collapsed": true
      },
      "execution_count": null,
      "outputs": []
    },
    {
      "cell_type": "code",
      "source": [
        "bonito = BeautifulSoup(response.text, 'html.parser')"
      ],
      "metadata": {
        "id": "4t_Xv3BuBIup"
      },
      "execution_count": 7,
      "outputs": []
    },
    {
      "cell_type": "code",
      "source": [
        "print(bonito.prettify())"
      ],
      "metadata": {
        "id": "5C7pTYtnBRSp",
        "collapsed": true
      },
      "execution_count": null,
      "outputs": []
    },
    {
      "cell_type": "code",
      "source": [
        "# Encontrando todos os produtos na página\n",
        "\n",
        "produtos = bonito.find_all('p', class_='price_color')\n",
        "# produtos = bonito.find_all('h2')\n",
        "produtos[0]"
      ],
      "metadata": {
        "colab": {
          "base_uri": "https://localhost:8080/"
        },
        "id": "VFD6lMCgCLT6",
        "outputId": "13aea99b-6a8e-4103-b142-a51d97196b91"
      },
      "execution_count": 12,
      "outputs": [
        {
          "output_type": "execute_result",
          "data": {
            "text/plain": [
              "<p class=\"price_color\">Â£51.77</p>"
            ]
          },
          "metadata": {},
          "execution_count": 12
        }
      ]
    },
    {
      "cell_type": "markdown",
      "source": [
        "# calculando a media de preço"
      ],
      "metadata": {
        "id": "0w7Z0XPbNsP4"
      }
    },
    {
      "cell_type": "code",
      "source": [
        "prices = bonito.find_all('p', class_='price_color')\n",
        "\n",
        "\n",
        "price_values = [float(price.get_text().replace('Â£', '')) for price in prices]\n",
        "\n",
        "average_price = sum(price_values) / len(price_values)\n",
        "\n",
        "\n",
        "print(f\"Média dos preços: £{average_price:.2f}\")"
      ],
      "metadata": {
        "colab": {
          "base_uri": "https://localhost:8080/"
        },
        "id": "9vv6lY-AMqlG",
        "outputId": "ac589716-f656-4494-bce9-c28e5851d126"
      },
      "execution_count": 25,
      "outputs": [
        {
          "output_type": "stream",
          "name": "stdout",
          "text": [
            "Média dos preços: £38.05\n"
          ]
        }
      ]
    },
    {
      "cell_type": "markdown",
      "source": [
        "## a média dos preços dos livros é Média dos preços: £38.05"
      ],
      "metadata": {
        "id": "jJuVUqRPQEuw"
      }
    },
    {
      "cell_type": "markdown",
      "source": [
        "# Realizar a contagem de livros na página\n"
      ],
      "metadata": {
        "id": "0his5MbQQPhE"
      }
    },
    {
      "cell_type": "code",
      "source": [
        "quantidadeLen = bonito.find_all('li', class_='col-xs-6 col-sm-4 col-md-3 col-lg-3')\n",
        "\n",
        "quantidadeNum = len(quantidadeLen)\n",
        "\n",
        "\n",
        "print(quantidadeNum)"
      ],
      "metadata": {
        "colab": {
          "base_uri": "https://localhost:8080/"
        },
        "id": "QfsZitjTQO6X",
        "outputId": "9c0d11ce-3db7-4fed-c043-a9f25038fafe"
      },
      "execution_count": 27,
      "outputs": [
        {
          "output_type": "stream",
          "name": "stdout",
          "text": [
            "20\n"
          ]
        }
      ]
    },
    {
      "cell_type": "markdown",
      "source": [
        "## A Página tem 20 elementos"
      ],
      "metadata": {
        "id": "sjLO4aW0SNfx"
      }
    },
    {
      "cell_type": "markdown",
      "source": [
        "# analisar qual é o livro mais caro"
      ],
      "metadata": {
        "id": "UeXSRfiPSRnC"
      }
    },
    {
      "cell_type": "code",
      "source": [
        "prices = bonito.find_all('p', class_='price_color')\n",
        "\n",
        "\n",
        "price_values = [float(price.get_text().replace('Â£', '')) for price in prices]\n",
        "\n",
        "preco_mais_caro = max(price_values)\n",
        "\n",
        "\n",
        "print(f\"O livro mais caro custa: £{preco_mais_caro:.2f}\")\n"
      ],
      "metadata": {
        "colab": {
          "base_uri": "https://localhost:8080/"
        },
        "id": "rmrlg34wSRC6",
        "outputId": "c437e1c7-609c-480c-eb47-920c9b87d694"
      },
      "execution_count": 28,
      "outputs": [
        {
          "output_type": "stream",
          "name": "stdout",
          "text": [
            "O livro mais caro custa: £57.25\n"
          ]
        }
      ]
    },
    {
      "cell_type": "markdown",
      "source": [
        "## O livro mais caro custa: £57.25"
      ],
      "metadata": {
        "id": "_6IOpQSASzGp"
      }
    }
  ]
}